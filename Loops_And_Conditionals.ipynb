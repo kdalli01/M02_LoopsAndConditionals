{
 "cells": [
  {
   "cell_type": "code",
   "execution_count": 11,
   "id": "109df989-8dd2-4edb-ae82-e0f3a90e40e0",
   "metadata": {},
   "outputs": [
    {
     "name": "stdout",
     "output_type": "stream",
     "text": [
      "Just right.\n"
     ]
    }
   ],
   "source": [
    "#Exercise 4.1, Depending on what is assigned to variables guess/secret: if the answer is equal \"else:\" decision prints \"Just right.\"\n",
    "secret = 3\n",
    "guess = 3\n",
    "if guess < secret:\n",
    "    print(\"Too low.\")\n",
    "elif guess > secret:\n",
    "    print(\"Too high.\")\n",
    "else: \n",
    "    print(\"Just right.\")\n"
   ]
  },
  {
   "cell_type": "code",
   "execution_count": 3,
   "id": "eb1196ed-de2e-44b8-8390-512e5e62365a",
   "metadata": {},
   "outputs": [
    {
     "name": "stdout",
     "output_type": "stream",
     "text": [
      "The produce is small but not green.\n",
      "Small is now:\n",
      "True\n",
      "Green is now:\n",
      "False\n"
     ]
    }
   ],
   "source": [
    "#Exercise 4.2 assign True and False to variables small and green and use if else statements\n",
    "#To match those choices\n",
    "#Depending on what the 'produce' variable is (or isn't) the program will match the choices\n",
    "small = True\n",
    "green = False\n",
    "produce = 'cherry'\n",
    "SmallList = ('cherry','pea')\n",
    "GreenList = ('watermelon', 'pea')\n",
    "ElseList = ('pumpkin')\n",
    "if produce in SmallList and produce in GreenList:\n",
    "    print(\"The produce is small and green.\")\n",
    "    green = small\n",
    "elif produce in SmallList:\n",
    "    print(\"The produce is small but not green.\")\n",
    "elif produce in GreenList:\n",
    "    print(\"The produce is green but not small.\")\n",
    "    small = False\n",
    "    green = True\n",
    "elif produce in ElseList:\n",
    "    print(\"The produce is not small or green.\")\n",
    "    small = green\n",
    "else:\n",
    "    print(\"I'm not sure what kind of produce you have here.\")\n",
    "    small = green\n",
    "print(\"Small is now:\")\n",
    "print(small)\n",
    "print(\"Green is now:\")\n",
    "print(green)\n",
    "    \n",
    "\n",
    "\n",
    "\n"
   ]
  },
  {
   "cell_type": "code",
   "execution_count": 4,
   "id": "e95c92d0-2d88-4183-bec1-c5bac0645319",
   "metadata": {},
   "outputs": [
    {
     "name": "stdout",
     "output_type": "stream",
     "text": [
      "3\n",
      "2\n",
      "1\n",
      "0\n"
     ]
    }
   ],
   "source": [
    "#6.1 Use a for loop to print the values of the list [3, 2, 1, 0]\n",
    "\n",
    "list = [3,2,1,0]\n",
    "for x in list:\n",
    "\n",
    "    print(x)"
   ]
  },
  {
   "cell_type": "code",
   "execution_count": 5,
   "id": "d2cbe076-4e59-4503-985d-7c658c0ff836",
   "metadata": {},
   "outputs": [
    {
     "name": "stdout",
     "output_type": "stream",
     "text": [
      "Too low.\n",
      "Too low.\n",
      "Too low.\n",
      "Too low.\n",
      "Too low.\n",
      "Too low.\n",
      "Found it!\n"
     ]
    }
   ],
   "source": [
    "#6.2 Use While loop to guess numbers. \n",
    "\n",
    "\n",
    "guess_me = 7\n",
    "\n",
    "number = 1\n",
    "\n",
    "while True: #While True loop keeps occuring until a condition is met\n",
    "\n",
    "    if number < guess_me: #No break so loop will move on to the next check\n",
    "\n",
    "        print(\"Too low.\")\n",
    "\n",
    "    elif number == guess_me: #If the number is equal to == message prints and break stops the loop\n",
    "\n",
    "        print(\"Found it!\")\n",
    "\n",
    "        break\n",
    "\n",
    "    else:\n",
    "\n",
    "        print(\"Oops!\") #If the number is higher than guess_me prints message and again loop breaks\n",
    "\n",
    "        break\n",
    "\n",
    "    number += 1 #If no breaks, iterates through numbers +1 to go through the loop again\n"
   ]
  },
  {
   "cell_type": "code",
   "execution_count": 7,
   "id": "5493b7d3-f70d-4ec2-a1a9-c9cc55a4dfa5",
   "metadata": {},
   "outputs": [
    {
     "name": "stdout",
     "output_type": "stream",
     "text": [
      "Too low.\n",
      "Too low.\n",
      "Too low.\n",
      "Too low.\n",
      "Too low.\n",
      "Found it!\n"
     ]
    }
   ],
   "source": [
    "#6.3 Use a for loop to iterate a variable called number over range(10)\n",
    "\n",
    "guess_me = 5\n",
    "\n",
    "number = 0\n",
    "\n",
    "for x in range(10):\n",
    "\n",
    "    if number < guess_me:\n",
    "\n",
    "        print(\"Too low.\")\n",
    "\n",
    "    elif number == guess_me:\n",
    "\n",
    "        print(\"Found it!\")\n",
    "\n",
    "        break\n",
    "\n",
    "    elif number > guess_me:\n",
    "\n",
    "        print(\"Oops.\")\n",
    "\n",
    "        break\n",
    "\n",
    "    number += 1"
   ]
  },
  {
   "cell_type": "code",
   "execution_count": null,
   "id": "2f83baea-90d5-4e96-bbe6-5f263daeeecb",
   "metadata": {},
   "outputs": [],
   "source": []
  }
 ],
 "metadata": {
  "kernelspec": {
   "display_name": "Python 3 (ipykernel)",
   "language": "python",
   "name": "python3"
  },
  "language_info": {
   "codemirror_mode": {
    "name": "ipython",
    "version": 3
   },
   "file_extension": ".py",
   "mimetype": "text/x-python",
   "name": "python",
   "nbconvert_exporter": "python",
   "pygments_lexer": "ipython3",
   "version": "3.11.7"
  }
 },
 "nbformat": 4,
 "nbformat_minor": 5
}
